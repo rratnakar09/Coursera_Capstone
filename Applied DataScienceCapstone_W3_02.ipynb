{
 "cells": [
  {
   "cell_type": "code",
   "execution_count": 1,
   "metadata": {},
   "outputs": [],
   "source": [
    "import numpy as np # library to handle data in a vectorized manner\n",
    "import pandas as pd # library for data analsysis\n",
    "import requests\n",
    "from bs4 import BeautifulSoup"
   ]
  },
  {
   "cell_type": "code",
   "execution_count": 2,
   "metadata": {},
   "outputs": [
    {
     "name": "stdout",
     "output_type": "stream",
     "text": [
      "  Postal Code           Borough                     Neighborhood\n",
      "0         M3A        North York                        Parkwoods\n",
      "1         M4A        North York                 Victoria Village\n",
      "2         M5A  Downtown Toronto         Harbourfront,Regent Park\n",
      "3         M6A        North York  Lawrence Heights,Lawrence Manor\n",
      "4         M7A      Queen's Park                     Queen's Park\n",
      "5         M9A         Etobicoke                 Islington Avenue\n",
      "6         M1B       Scarborough                    Rouge,Malvern\n",
      "7         M3B        North York                  Don Mills North\n",
      "8         M4B         East York   Woodbine Gardens,Parkview Hill\n",
      "9         M5B  Downtown Toronto          Ryerson,Garden District\n"
     ]
    }
   ],
   "source": [
    "wikipedia_link='https://en.wikipedia.org/wiki/List_of_postal_codes_of_Canada:_M'\n",
    "raw_wikipedia_page = requests.get(wikipedia_link)\n",
    "page= raw_wikipedia_page.text\n",
    "soup = BeautifulSoup(page, 'lxml')\n",
    "\n",
    "\n",
    "table = soup.find(\"table\")\n",
    "df  = pd.DataFrame( columns = ['Postal Code', 'Borough', 'Neighborhood'])\n",
    "data = {}\n",
    "\n",
    "i = 0\n",
    "for row in table.findAll(\"tr\"):\n",
    "    cells = row.findAll(\"td\")\n",
    "    ls= []\n",
    "    for cell in cells:\n",
    "        ls.append(cell.find(text=True))\n",
    "        \n",
    "    data[i]= ls\n",
    "    i = i+1\n",
    "\n",
    "for x in range (1, len(data)):\n",
    "    if data[x][1] == 'Not assigned':\n",
    "        continue\n",
    "    else:  \n",
    "        if data[x][2].strip() == 'Not assigned':\n",
    "            data[x][2] = data[x][1]\n",
    "            \n",
    "        \n",
    "        df = df.append(\n",
    "        {\n",
    "          'Postal Code': data[x][0],\n",
    "          'Borough': data[x][1],\n",
    "          'Neighborhood': data[x][2]\n",
    "        }, ignore_index=True)  \n",
    "       \n",
    "\n",
    "df = df.reset_index(drop=True)\n",
    "#print (df.head(20))\n",
    "modified_data = {}\n",
    "for index, row in df.iterrows():\n",
    "    if row['Postal Code'] in modified_data.keys():\n",
    "        modified_data[row['Postal Code']][2] = modified_data[row['Postal Code']][2].replace('\\n','') + ',' + row['Neighborhood'].replace('\\n','')\n",
    "    else:    \n",
    "        modified_data[row['Postal Code']] = [row['Postal Code'], row['Borough'].replace('\\n',''), row['Neighborhood'].replace('\\n','')]\n",
    "\n",
    "#print ( modified_data)\n",
    "dfObj = pd.DataFrame(modified_data).T \n",
    "dfObj = dfObj.reset_index(drop=True)\n",
    "dfObj.columns =  ['Postal Code', 'Borough', 'Neighborhood']\n",
    "print(dfObj.head(10))"
   ]
  },
  {
   "cell_type": "code",
   "execution_count": 6,
   "metadata": {},
   "outputs": [
    {
     "name": "stdout",
     "output_type": "stream",
     "text": [
      "  Postal Code     Borough      Neighborhood   Latitude  Longitude\n",
      "0         M3A  North York         Parkwoods  43.753259 -79.329656\n",
      "1         M4A  North York  Victoria Village  43.725882 -79.315572\n"
     ]
    }
   ],
   "source": [
    "url = 'http://cocl.us/Geospatial_data'\n",
    "data = pd.read_csv(url)\n",
    "df_geocode  = pd.DataFrame( columns = ['Postal Code', 'Borough', 'Neighborhood', 'Latitude',  'Longitude'])\n",
    "df_geocode = pd.merge(dfObj, data, on='Postal Code')\n",
    "print(df_geocode.head(2))"
   ]
  },
  {
   "cell_type": "code",
   "execution_count": 4,
   "metadata": {},
   "outputs": [
    {
     "data": {
      "text/plain": [
       "(103, 3)"
      ]
     },
     "execution_count": 4,
     "metadata": {},
     "output_type": "execute_result"
    }
   ],
   "source": [
    "dfObj.shape"
   ]
  },
  {
   "cell_type": "code",
   "execution_count": null,
   "metadata": {},
   "outputs": [],
   "source": []
  }
 ],
 "metadata": {
  "kernelspec": {
   "display_name": "Python 3",
   "language": "python",
   "name": "python3"
  },
  "language_info": {
   "codemirror_mode": {
    "name": "ipython",
    "version": 3
   },
   "file_extension": ".py",
   "mimetype": "text/x-python",
   "name": "python",
   "nbconvert_exporter": "python",
   "pygments_lexer": "ipython3",
   "version": "3.6.5"
  }
 },
 "nbformat": 4,
 "nbformat_minor": 2
}
