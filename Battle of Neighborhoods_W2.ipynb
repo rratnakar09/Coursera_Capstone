{
 "cells": [
  {
   "cell_type": "markdown",
   "metadata": {},
   "source": [
    "# Opening a new restaurants"
   ]
  },
  {
   "cell_type": "markdown",
   "metadata": {},
   "source": [
    "In this project I have tried to find out the number of restaurants and food courts which are there in Hadapsar, Pune. Based on the number we can predicts that there are possibility of new restaurants and foods courts in this area."
   ]
  },
  {
   "cell_type": "markdown",
   "metadata": {},
   "source": [
    "### Import necessary Libraries that will be used in this project"
   ]
  },
  {
   "cell_type": "code",
   "execution_count": 1,
   "metadata": {},
   "outputs": [
    {
     "name": "stdout",
     "output_type": "stream",
     "text": [
      "Solving environment: done\n",
      "\n",
      "# All requested packages already installed.\n",
      "\n",
      "Solving environment: done\n",
      "\n",
      "# All requested packages already installed.\n",
      "\n",
      "Folium installed\n",
      "Libraries imported.\n"
     ]
    }
   ],
   "source": [
    "!conda install -c conda-forge geopy --yes \n",
    "from geopy.geocoders import Nominatim # module to convert an address into latitude and longitude values\n",
    "import requests # library to handle requests\n",
    "import pandas as pd # library for data analsysis\n",
    "import numpy as np # library to handle data in a vectorized manner\n",
    "import random # library for random number generation\n",
    "\n",
    "# libraries for displaying images\n",
    "from IPython.display import Image \n",
    "from IPython.core.display import HTML \n",
    "    \n",
    "# tranforming json file into a pandas dataframe library\n",
    "from pandas.io.json import json_normalize\n",
    "\n",
    "!conda install -c conda-forge folium=0.5.0 --yes\n",
    "import folium # plotting library\n",
    "\n",
    "print('Folium installed')\n",
    "print('Libraries imported.')"
   ]
  },
  {
   "cell_type": "markdown",
   "metadata": {},
   "source": [
    "### Define Foursquare Credentials and Version"
   ]
  },
  {
   "cell_type": "code",
   "execution_count": 2,
   "metadata": {},
   "outputs": [
    {
     "name": "stdout",
     "output_type": "stream",
     "text": [
      "Your credentails:\n",
      "CLIENT_ID: 15NLYHHTWNIBTFIE11MMLLDBY2XCVE0GE2W55R2J5NI002CQ\n",
      "CLIENT_SECRET:O3ON0BTWINO1JGA1YX5UYVB4AXD21RZXT4FIOVXUUK15S1KD\n"
     ]
    }
   ],
   "source": [
    "CLIENT_ID = '15NLYHHTWNIBTFIE11MMLLDBY2XCVE0GE2W55R2J5NI002CQ' # your Foursquare ID\n",
    "CLIENT_SECRET = 'O3ON0BTWINO1JGA1YX5UYVB4AXD21RZXT4FIOVXUUK15S1KD' # your Foursquare Secret\n",
    "VERSION = '20180908'\n",
    "LIMIT = 30\n",
    "print('Your credentails:')\n",
    "print('CLIENT_ID: ' + CLIENT_ID)\n",
    "print('CLIENT_SECRET:' + CLIENT_SECRET)"
   ]
  },
  {
   "cell_type": "markdown",
   "metadata": {},
   "source": [
    "## Find the Geo location of Hadapsar,Pune"
   ]
  },
  {
   "cell_type": "code",
   "execution_count": 3,
   "metadata": {},
   "outputs": [
    {
     "name": "stderr",
     "output_type": "stream",
     "text": [
      "/home/jupyterlab/conda/lib/python3.6/site-packages/geopy/geocoders/osm.py:143: UserWarning: Using Nominatim with the default \"geopy/1.17.0\" `user_agent` is strongly discouraged, as it violates Nominatim's ToS https://operations.osmfoundation.org/policies/nominatim/ and may possibly cause 403 and 429 HTTP errors. Please specify a custom `user_agent` with `Nominatim(user_agent=\"my-application\")` or by overriding the default `user_agent`: `geopy.geocoders.options.default_user_agent = \"my-application\"`. In geopy 2.0 this will become an exception.\n",
      "  UserWarning\n"
     ]
    },
    {
     "name": "stdout",
     "output_type": "stream",
     "text": [
      "18.5198046 73.9344461\n"
     ]
    }
   ],
   "source": [
    "address = 'Hadapsar,Pune'\n",
    "\n",
    "geolocator = Nominatim()\n",
    "location = geolocator.geocode(address)\n",
    "latitude = location.latitude\n",
    "longitude = location.longitude\n",
    "print(latitude, longitude)"
   ]
  },
  {
   "cell_type": "markdown",
   "metadata": {},
   "source": [
    "## A Look of location 'Hadapsar, Pune' on MAP"
   ]
  },
  {
   "cell_type": "code",
   "execution_count": 6,
   "metadata": {},
   "outputs": [
    {
     "data": {
      "text/html": [
       "<div style=\"width:100%;\"><div style=\"position:relative;width:100%;height:0;padding-bottom:60%;\"><iframe src=\"data:text/html;charset=utf-8;base64,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\" style=\"position:absolute;width:100%;height:100%;left:0;top:0;border:none !important;\" allowfullscreen webkitallowfullscreen mozallowfullscreen></iframe></div></div>"
      ],
      "text/plain": [
       "<folium.folium.Map at 0x7f80f420cc18>"
      ]
     },
     "execution_count": 6,
     "metadata": {},
     "output_type": "execute_result"
    }
   ],
   "source": [
    "Location_map = folium.Map(location=[latitude, longitude], zoom_start=13) # generate a map centred around of Hadapsar,Pune\n",
    "\n",
    "folium.features.CircleMarker(\n",
    "    [latitude, longitude],\n",
    "    radius=200,\n",
    "    color='blue',\n",
    "    popup='Radio of Covent Garden',\n",
    "    fill = True,\n",
    "    fill_color = 'white',\n",
    "    fill_opacity = 0.6\n",
    ").add_to(Location_map)\n",
    "\n",
    "\n",
    "Location_map"
   ]
  },
  {
   "cell_type": "markdown",
   "metadata": {},
   "source": [
    "## Setup of List Restaurant and food courts in Hadapsar, Pune:"
   ]
  },
  {
   "cell_type": "code",
   "execution_count": 8,
   "metadata": {},
   "outputs": [],
   "source": [
    "restaurant_query = 'Restaurant'\n",
    "food_query = 'Food'\n",
    "\n",
    "radius = 800"
   ]
  },
  {
   "cell_type": "markdown",
   "metadata": {},
   "source": [
    "## Getting information of Restaurant and food courts from Foursquare"
   ]
  },
  {
   "cell_type": "code",
   "execution_count": 9,
   "metadata": {},
   "outputs": [],
   "source": [
    "restaurant_query_url = 'https://api.foursquare.com/v2/venues/search?client_id={}&client_secret={}&ll={},{}&v={}&query={}&radius={}&limit={}'.format(CLIENT_ID, CLIENT_SECRET, latitude, longitude, VERSION, restaurant_query, radius, LIMIT)\n",
    "food_query_url = 'https://api.foursquare.com/v2/venues/search?client_id={}&client_secret={}&ll={},{}&v={}&query={}&radius={}&limit={}'.format(CLIENT_ID, CLIENT_SECRET, latitude, longitude, VERSION, food_query, radius, LIMIT)\n"
   ]
  },
  {
   "cell_type": "markdown",
   "metadata": {},
   "source": [
    "## Fetching data from foursquare to dataframe to build the Report"
   ]
  },
  {
   "cell_type": "code",
   "execution_count": 11,
   "metadata": {},
   "outputs": [
    {
     "name": "stdout",
     "output_type": "stream",
     "text": [
      "{'meta': {'code': 200, 'requestId': '5bbc7d52f594df1de61622f4'}, 'response': {'venues': [{'id': '560b95f7498ee4045dbaea98', 'name': 'Blue rock Family Restaurant', 'location': {'lat': 18.517695, 'lng': 73.933024, 'labeledLatLngs': [{'label': 'display', 'lat': 18.517695, 'lng': 73.933024}], 'distance': 278, 'cc': 'IN', 'country': 'India', 'formattedAddress': ['India']}, 'categories': [{'id': '54135bf5e4b08f3d2429dff0', 'name': 'Punjabi Restaurant', 'pluralName': 'Punjabi Restaurants', 'shortName': 'Punjabi', 'icon': {'prefix': 'https://ss3.4sqi.net/img/categories_v2/food/default_', 'suffix': '.png'}, 'primary': True}], 'referralId': 'v-1539079506', 'hasPerk': False}, {'id': '4dee3cbcc65bf34fc6e74dd7', 'name': '@M Coffee Shop And Restaurant', 'location': {'address': 'Cocoon Hotel Magarpatta City', 'lat': 18.517471681542858, 'lng': 73.93251192411122, 'labeledLatLngs': [{'label': 'display', 'lat': 18.517471681542858, 'lng': 73.93251192411122}], 'distance': 330, 'postalCode': '411013', 'cc': 'IN', 'city': 'Pune', 'state': 'Mahārāshtra', 'country': 'India', 'formattedAddress': ['Cocoon Hotel Magarpatta City', 'Pune 411013', 'Mahārāshtra', 'India']}, 'categories': [{'id': '4bf58dd8d48988d10f941735', 'name': 'Indian Restaurant', 'pluralName': 'Indian Restaurants', 'shortName': 'Indian', 'icon': {'prefix': 'https://ss3.4sqi.net/img/categories_v2/food/indian_', 'suffix': '.png'}, 'primary': True}], 'referralId': 'v-1539079506', 'hasPerk': False}, {'id': '4d9f3f6835a9224b99784785', 'name': 'Z plus restaurant', 'location': {'address': 'Mundwa', 'lat': 18.523863463950942, 'lng': 73.93258678212875, 'labeledLatLngs': [{'label': 'display', 'lat': 18.523863463950942, 'lng': 73.93258678212875}], 'distance': 492, 'cc': 'IN', 'city': 'Pune', 'state': 'Mahārāshtra', 'country': 'India', 'formattedAddress': ['Mundwa', 'Pune', 'Mahārāshtra', 'India']}, 'categories': [{'id': '4bf58dd8d48988d10f941735', 'name': 'Indian Restaurant', 'pluralName': 'Indian Restaurants', 'shortName': 'Indian', 'icon': {'prefix': 'https://ss3.4sqi.net/img/categories_v2/food/indian_', 'suffix': '.png'}, 'primary': True}], 'referralId': 'v-1539079506', 'hasPerk': False}, {'id': '4eff0fc5722e0f0771421239', 'name': 'Pizza Hut', 'location': {'address': '41 1st Flr, West Blk Amanora Town Ctr, Magarpatta City', 'crossStreet': 'Hadapsar', 'lat': 18.5185975718451, 'lng': 73.93533619567934, 'labeledLatLngs': [{'label': 'display', 'lat': 18.5185975718451, 'lng': 73.93533619567934}], 'distance': 163, 'postalCode': '411028', 'cc': 'IN', 'city': 'Pune', 'state': 'Mahārāshtra', 'country': 'India', 'formattedAddress': ['41 1st Flr, West Blk Amanora Town Ctr, Magarpatta City (Hadapsar)', 'Pune 411028', 'Mahārāshtra', 'India']}, 'categories': [{'id': '4bf58dd8d48988d1ca941735', 'name': 'Pizza Place', 'pluralName': 'Pizza Places', 'shortName': 'Pizza', 'icon': {'prefix': 'https://ss3.4sqi.net/img/categories_v2/food/pizza_', 'suffix': '.png'}, 'primary': True}], 'referralId': 'v-1539079506', 'hasPerk': False}, {'id': '4fc10052e4b07c20e99cc07e', 'name': 'Fresco', 'location': {'address': 'East Blok Amanora Town Centre, Near Magarpatta City', 'crossStreet': 'Hadapsar', 'lat': 18.518642909986795, 'lng': 73.93505110013005, 'labeledLatLngs': [{'label': 'display', 'lat': 18.518642909986795, 'lng': 73.93505110013005}], 'distance': 144, 'postalCode': '411028', 'cc': 'IN', 'city': 'Pune', 'state': 'Mahārāshtra', 'country': 'India', 'formattedAddress': ['East Blok Amanora Town Centre, Near Magarpatta City (Hadapsar)', 'Pune 411028', 'Mahārāshtra', 'India']}, 'categories': [{'id': '4bf58dd8d48988d1c0941735', 'name': 'Mediterranean Restaurant', 'pluralName': 'Mediterranean Restaurants', 'shortName': 'Mediterranean', 'icon': {'prefix': 'https://ss3.4sqi.net/img/categories_v2/food/mediterranean_', 'suffix': '.png'}, 'primary': True}], 'referralId': 'v-1539079506', 'hasPerk': False}, {'id': '4bc7dfee14d795215c4f68e9', 'name': 'Deccan Harvest', 'location': {'address': 'Magarpatta City', 'crossStreet': 'Cyber City', 'lat': 18.514182537537568, 'lng': 73.92750318401147, 'labeledLatLngs': [{'label': 'display', 'lat': 18.514182537537568, 'lng': 73.92750318401147}], 'distance': 963, 'postalCode': '411013', 'cc': 'IN', 'city': 'Pune', 'state': 'Mahārāshtra', 'country': 'India', 'formattedAddress': ['Magarpatta City (Cyber City)', 'Pune 411013', 'Mahārāshtra', 'India']}, 'categories': [{'id': '4bf58dd8d48988d10f941735', 'name': 'Indian Restaurant', 'pluralName': 'Indian Restaurants', 'shortName': 'Indian', 'icon': {'prefix': 'https://ss3.4sqi.net/img/categories_v2/food/indian_', 'suffix': '.png'}, 'primary': True}], 'referralId': 'v-1539079506', 'hasPerk': False}]}}\n"
     ]
    }
   ],
   "source": [
    "restaurant_query_results = requests.get(restaurant_query_url).json()\n",
    "food_query_results = requests.get(food_query_url).json()\n",
    "\n",
    "print(restaurant_query_results)"
   ]
  },
  {
   "cell_type": "code",
   "execution_count": 14,
   "metadata": {},
   "outputs": [
    {
     "name": "stdout",
     "output_type": "stream",
     "text": [
      "0      Blue rock Family Restaurant\n",
      "1    @M Coffee Shop And Restaurant\n",
      "2                Z plus restaurant\n",
      "Name: name, dtype: object\n"
     ]
    }
   ],
   "source": [
    "restaurant_venues = restaurant_query_results['response']['venues']\n",
    "restaurant_dataframe = json_normalize(restaurant_venues)\n",
    "\n",
    "restaurant_filtered_columns = ['name', 'categories'] + [col for col in restaurant_dataframe.columns if col.startswith('location.')] + ['id']\n",
    "restaurant_dataframe_filtered = restaurant_dataframe.loc[:,restaurant_filtered_columns]\n",
    "\n",
    "def get_category_type(row):\n",
    "    try:\n",
    "        categories_list = row['categories']\n",
    "    except:\n",
    "        categories_list = row['venue.categories']\n",
    "        \n",
    "    if len(categories_list) == 0:\n",
    "        return None\n",
    "    else:\n",
    "        \n",
    "        return categories_list[0]['name']\n",
    "restaurant_dataframe_filtered['categories'] = restaurant_dataframe_filtered.apply(get_category_type, axis=1) \n",
    "\n",
    "restaurant_dataframe_filtered.columns = [column.split('.')[-1] for column in restaurant_dataframe_filtered.columns]\n",
    "\n",
    "print(restaurant_dataframe_filtered['name'].head(3))"
   ]
  },
  {
   "cell_type": "code",
   "execution_count": 15,
   "metadata": {},
   "outputs": [
    {
     "name": "stdout",
     "output_type": "stream",
     "text": [
      "0    Seasons Food Court\n",
      "1    Amanora Food Court\n",
      "2           Food United\n",
      "Name: name, dtype: object\n"
     ]
    }
   ],
   "source": [
    "food_venues = food_query_results['response']['venues']\n",
    "food_dataframe = json_normalize(food_venues)\n",
    "\n",
    "food_filtered_columns = ['name', 'categories'] + [col for col in food_dataframe.columns if col.startswith('location.')] + ['id']\n",
    "food_dataframe_filtered = food_dataframe.loc[:,food_filtered_columns]\n",
    "\n",
    "def get_category_type(row):\n",
    "    try:\n",
    "        categories_list = row['categories']\n",
    "    except:\n",
    "        categories_list = row['venue.categories']\n",
    "        \n",
    "    if len(categories_list) == 0:\n",
    "        return None\n",
    "    else:\n",
    "        \n",
    "        return categories_list[0]['name']\n",
    "food_dataframe_filtered['categories'] = food_dataframe_filtered.apply(get_category_type, axis=1) \n",
    "\n",
    "food_dataframe_filtered.columns = [column.split('.')[-1] for column in food_dataframe_filtered.columns]\n",
    "\n",
    "print(food_dataframe_filtered['name'].head(3))"
   ]
  },
  {
   "cell_type": "markdown",
   "metadata": {},
   "source": [
    "\n",
    "\n",
    "## Generating map of Restaurant and Food Courts \n",
    "\n"
   ]
  },
  {
   "cell_type": "code",
   "execution_count": 17,
   "metadata": {},
   "outputs": [
    {
     "data": {
      "text/html": [
       "<div style=\"width:100%;\"><div style=\"position:relative;width:100%;height:0;padding-bottom:60%;\"><iframe src=\"data:text/html;charset=utf-8;base64,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\" style=\"position:absolute;width:100%;height:100%;left:0;top:0;border:none !important;\" allowfullscreen webkitallowfullscreen mozallowfullscreen></iframe></div></div>"
      ],
      "text/plain": [
       "<folium.folium.Map at 0x7f80f4133a20>"
      ]
     },
     "execution_count": 17,
     "metadata": {},
     "output_type": "execute_result"
    }
   ],
   "source": [
    "Location_map = folium.Map(location=[latitude, longitude], zoom_start=14) # generate a map centred around Hadapsar, Pune\n",
    "\n",
    "folium.features.CircleMarker(\n",
    "    [latitude, longitude],\n",
    "    radius=200,\n",
    "    color='blue',\n",
    "    popup='Radio of Covent Garden',\n",
    "    fill = True,\n",
    "    fill_color = 'white',\n",
    "    fill_opacity = 0.6\n",
    ").add_to(Location_map)\n",
    "\n",
    "#  restaurants as blue circle markers\n",
    "for lat, lng, label in zip(restaurant_dataframe_filtered.lat, restaurant_dataframe_filtered.lng, restaurant_dataframe_filtered.categories):\n",
    "    folium.features.CircleMarker(\n",
    "        [lat, lng],\n",
    "        radius=5,\n",
    "        color='blue',\n",
    "        popup=label,\n",
    "        fill = True,\n",
    "        fill_color='blue',\n",
    "        fill_opacity=0.6\n",
    "    ).add_to(Location_map)\n",
    "   \n",
    "# food couts as red circle markers\n",
    "for lat, lng, label in zip(food_dataframe_filtered.lat, food_dataframe_filtered.lng, food_dataframe_filtered.categories):\n",
    "    folium.features.CircleMarker(\n",
    "        [lat, lng],\n",
    "        radius=5,\n",
    "        color='red',\n",
    "        popup=label,\n",
    "        fill = True,\n",
    "        fill_color='red',\n",
    "        fill_opacity=0.6\n",
    "    ).add_to(Location_map)\n",
    "    \n",
    "\n",
    "# display map\n",
    "Location_map"
   ]
  },
  {
   "cell_type": "markdown",
   "metadata": {},
   "source": [
    "## Converting the dataframe to find the count and distance between them"
   ]
  },
  {
   "cell_type": "code",
   "execution_count": 19,
   "metadata": {},
   "outputs": [
    {
     "data": {
      "text/html": [
       "<div>\n",
       "<style scoped>\n",
       "    .dataframe tbody tr th:only-of-type {\n",
       "        vertical-align: middle;\n",
       "    }\n",
       "\n",
       "    .dataframe tbody tr th {\n",
       "        vertical-align: top;\n",
       "    }\n",
       "\n",
       "    .dataframe thead th {\n",
       "        text-align: right;\n",
       "    }\n",
       "</style>\n",
       "<table border=\"1\" class=\"dataframe\">\n",
       "  <thead>\n",
       "    <tr style=\"text-align: right;\">\n",
       "      <th></th>\n",
       "      <th>name</th>\n",
       "      <th>distance</th>\n",
       "      <th>id</th>\n",
       "    </tr>\n",
       "    <tr>\n",
       "      <th>type</th>\n",
       "      <th></th>\n",
       "      <th></th>\n",
       "      <th></th>\n",
       "    </tr>\n",
       "  </thead>\n",
       "  <tbody>\n",
       "    <tr>\n",
       "      <th>food</th>\n",
       "      <td>9</td>\n",
       "      <td>9</td>\n",
       "      <td>9</td>\n",
       "    </tr>\n",
       "    <tr>\n",
       "      <th>restaurant</th>\n",
       "      <td>6</td>\n",
       "      <td>6</td>\n",
       "      <td>6</td>\n",
       "    </tr>\n",
       "  </tbody>\n",
       "</table>\n",
       "</div>"
      ],
      "text/plain": [
       "            name  distance  id\n",
       "type                          \n",
       "food           9         9   9\n",
       "restaurant     6         6   6"
      ]
     },
     "execution_count": 19,
     "metadata": {},
     "output_type": "execute_result"
    }
   ],
   "source": [
    "restaurant_dataframe_filtered['type'] = 'restaurant'\n",
    "food_dataframe_filtered['type'] = 'food'\n",
    "\n",
    "AllnoRes = pd.DataFrame()\n",
    "AllnoRes = pd.concat([restaurant_dataframe_filtered,food_dataframe_filtered])\n",
    "AllnoResList = AllnoRes[['name','distance','type', 'id']]\n",
    "AllnoResList.groupby('type').count()"
   ]
  },
  {
   "cell_type": "markdown",
   "metadata": {},
   "source": [
    "## Number of Restaurants and food courts in Hadapsar, Pune in a bar chart."
   ]
  },
  {
   "cell_type": "code",
   "execution_count": 22,
   "metadata": {},
   "outputs": [
    {
     "data": {
      "image/png": "[encoded data removed]",
      "text/plain": [
       "<Figure size 720x288 with 1 Axes>"
      ]
     },
     "metadata": {},
     "output_type": "display_data"
    }
   ],
   "source": [
    "import matplotlib.pyplot as plt\n",
    "AllnoResList.groupby('type')['name'].count().plot(kind = 'barh', figsize=(10, 4), width=0.4)\n",
    "plt.title('Number of Restaurants and food couts in Hadapsar')\n",
    "plt.xlabel('Number of Restaurants and food couts')\n",
    "plt.ylabel(\"Restaurants or Food Couts\")\n",
    "plt.show()"
   ]
  },
  {
   "cell_type": "markdown",
   "metadata": {},
   "source": [
    "## Generating the distance between each restaurant and food courts in Hadapsar, Pune"
   ]
  },
  {
   "cell_type": "code",
   "execution_count": 24,
   "metadata": {},
   "outputs": [
    {
     "data": {
      "text/plain": [
       "type\n",
       "food          387.777778\n",
       "restaurant    395.000000\n",
       "Name: distance, dtype: float64"
      ]
     },
     "execution_count": 24,
     "metadata": {},
     "output_type": "execute_result"
    }
   ],
   "source": [
    "avgDistance = AllnoResList.groupby('type')['distance'].mean()\n",
    "avgDistance"
   ]
  },
  {
   "cell_type": "markdown",
   "metadata": {},
   "source": [
    "## Generating a bar chart of the distance between each restaurant and food courts in Hadapsar, Pune"
   ]
  },
  {
   "cell_type": "code",
   "execution_count": 25,
   "metadata": {},
   "outputs": [
    {
     "data": {
      "image/png": "[encoded data removed]",
      "text/plain": [
       "<Figure size 720x288 with 1 Axes>"
      ]
     },
     "metadata": {},
     "output_type": "display_data"
    }
   ],
   "source": [
    "avgDistance.plot(kind = 'barh', figsize=(10, 4), width=0.4)\n",
    "plt.title('Average Distance of Restaurants or food couts in Hadapsar ')\n",
    "plt.xlabel('Average Distance of Restaurants or food couts in Hadapsar ')\n",
    "plt.ylabel(\"Restaurants or Food Couts\")\n",
    "plt.show()"
   ]
  },
  {
   "cell_type": "markdown",
   "metadata": {},
   "source": [
    "# Conclusion of Project"
   ]
  },
  {
   "cell_type": "markdown",
   "metadata": {},
   "source": [
    "Note: The business problem here is clear that we don't have much choice of restaurant and food courts so, it is advisable to open new restaurant and food courts in this area and it will be profitable as we don't have much competition.  "
   ]
  },
  {
   "cell_type": "code",
   "execution_count": 30,
   "metadata": {},
   "outputs": [
    {
     "data": {
      "text/plain": [
       "Index(['name', 'categories', 'address', 'cc', 'city', 'country', 'crossStreet',\n",
       "       'distance', 'formattedAddress', 'labeledLatLngs', 'lat', 'lng',\n",
       "       'postalCode', 'state', 'id', 'type'],\n",
       "      dtype='object')"
      ]
     },
     "execution_count": 30,
     "metadata": {},
     "output_type": "execute_result"
    }
   ],
   "source": [
    "restaurant_dataframe_filtered.columns"
   ]
  },
  {
   "cell_type": "code",
   "execution_count": 34,
   "metadata": {},
   "outputs": [
    {
     "data": {
      "text/html": [
       "<div>\n",
       "<style scoped>\n",
       "    .dataframe tbody tr th:only-of-type {\n",
       "        vertical-align: middle;\n",
       "    }\n",
       "\n",
       "    .dataframe tbody tr th {\n",
       "        vertical-align: top;\n",
       "    }\n",
       "\n",
       "    .dataframe thead th {\n",
       "        text-align: right;\n",
       "    }\n",
       "</style>\n",
       "<table border=\"1\" class=\"dataframe\">\n",
       "  <thead>\n",
       "    <tr style=\"text-align: right;\">\n",
       "      <th></th>\n",
       "      <th>name</th>\n",
       "      <th>address</th>\n",
       "      <th>distance</th>\n",
       "    </tr>\n",
       "  </thead>\n",
       "  <tbody>\n",
       "    <tr>\n",
       "      <th>0</th>\n",
       "      <td>Seasons Food Court</td>\n",
       "      <td>Seasons Mall, Magarpatta City</td>\n",
       "      <td>358</td>\n",
       "    </tr>\n",
       "    <tr>\n",
       "      <th>1</th>\n",
       "      <td>Amanora Food Court</td>\n",
       "      <td>Amanora Town Center</td>\n",
       "      <td>183</td>\n",
       "    </tr>\n",
       "    <tr>\n",
       "      <th>2</th>\n",
       "      <td>Food United</td>\n",
       "      <td>Food Court, Seasons Mall</td>\n",
       "      <td>370</td>\n",
       "    </tr>\n",
       "    <tr>\n",
       "      <th>3</th>\n",
       "      <td>Farm2Kitchen Organic Food &amp; Lifestyle Store</td>\n",
       "      <td>Seasons Mall, Magarpatta City</td>\n",
       "      <td>318</td>\n",
       "    </tr>\n",
       "    <tr>\n",
       "      <th>4</th>\n",
       "      <td>Khorisa - Authentic Assamese Food</td>\n",
       "      <td>Seasons Mall</td>\n",
       "      <td>401</td>\n",
       "    </tr>\n",
       "    <tr>\n",
       "      <th>5</th>\n",
       "      <td>Hotel OM Snacks and Fast Food</td>\n",
       "      <td>Opposite Magarpatta City Main Gate</td>\n",
       "      <td>560</td>\n",
       "    </tr>\n",
       "    <tr>\n",
       "      <th>6</th>\n",
       "      <td>Akshay Chinese Food</td>\n",
       "      <td>Hadapsar</td>\n",
       "      <td>580</td>\n",
       "    </tr>\n",
       "    <tr>\n",
       "      <th>7</th>\n",
       "      <td>Farm2Kitchen Organic Store</td>\n",
       "      <td>Seasons Mall, Magarpatta City</td>\n",
       "      <td>304</td>\n",
       "    </tr>\n",
       "    <tr>\n",
       "      <th>8</th>\n",
       "      <td>Foodcourt</td>\n",
       "      <td>Seasons Mall, Magarpatta City</td>\n",
       "      <td>416</td>\n",
       "    </tr>\n",
       "  </tbody>\n",
       "</table>\n",
       "</div>"
      ],
      "text/plain": [
       "                                          name  \\\n",
       "0                           Seasons Food Court   \n",
       "1                           Amanora Food Court   \n",
       "2                                  Food United   \n",
       "3  Farm2Kitchen Organic Food & Lifestyle Store   \n",
       "4            Khorisa - Authentic Assamese Food   \n",
       "5                Hotel OM Snacks and Fast Food   \n",
       "6                          Akshay Chinese Food   \n",
       "7                   Farm2Kitchen Organic Store   \n",
       "8                                    Foodcourt   \n",
       "\n",
       "                              address  distance  \n",
       "0       Seasons Mall, Magarpatta City       358  \n",
       "1                 Amanora Town Center       183  \n",
       "2            Food Court, Seasons Mall       370  \n",
       "3       Seasons Mall, Magarpatta City       318  \n",
       "4                        Seasons Mall       401  \n",
       "5  Opposite Magarpatta City Main Gate       560  \n",
       "6                            Hadapsar       580  \n",
       "7       Seasons Mall, Magarpatta City       304  \n",
       "8       Seasons Mall, Magarpatta City       416  "
      ]
     },
     "execution_count": 34,
     "metadata": {},
     "output_type": "execute_result"
    }
   ],
   "source": [
    "food_dataframe_filtered[['name', 'address', 'distance']]"
   ]
  },
  {
   "cell_type": "code",
   "execution_count": 37,
   "metadata": {},
   "outputs": [],
   "source": []
  },
  {
   "cell_type": "code",
   "execution_count": 39,
   "metadata": {},
   "outputs": [
    {
     "ename": "AttributeError",
     "evalue": "'function' object has no attribute 'columns'",
     "output_type": "error",
     "traceback": [
      "\u001b[0;31m---------------------------------------------------------------------------\u001b[0m",
      "\u001b[0;31mAttributeError\u001b[0m                            Traceback (most recent call last)",
      "\u001b[0;32m<ipython-input-39-39f3e11e2ce2>\u001b[0m in \u001b[0;36m<module>\u001b[0;34m()\u001b[0m\n\u001b[0;32m----> 1\u001b[0;31m \u001b[0mavgDistance\u001b[0m\u001b[0;34m.\u001b[0m\u001b[0mcolumns\u001b[0m\u001b[0;34m\u001b[0m\u001b[0m\n\u001b[0m",
      "\u001b[0;31mAttributeError\u001b[0m: 'function' object has no attribute 'columns'"
     ]
    }
   ],
   "source": []
  },
  {
   "cell_type": "code",
   "execution_count": null,
   "metadata": {},
   "outputs": [],
   "source": []
  }
 ],
 "metadata": {
  "kernelspec": {
   "display_name": "Python 3",
   "language": "python",
   "name": "python3"
  },
  "language_info": {
   "codemirror_mode": {
    "name": "ipython",
    "version": 3
   },
   "file_extension": ".py",
   "mimetype": "text/x-python",
   "name": "python",
   "nbconvert_exporter": "python",
   "pygments_lexer": "ipython3",
   "version": "3.6.5"
  }
 },
 "nbformat": 4,
 "nbformat_minor": 2
}
